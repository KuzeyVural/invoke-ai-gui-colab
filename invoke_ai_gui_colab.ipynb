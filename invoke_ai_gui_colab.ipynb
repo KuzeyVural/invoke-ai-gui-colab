{
 "cells": [],
 "metadata": {
  "kernelspec": {
   "display_name": "Python 3",
   "language": "python",
   "name": "python3"
  },
  "language_info": {
   "codemirror_mode": {
    "name": "ipython",
    "version": 3
   },
   "file_extension": ".py",
   "mimetype": "text/x-python",
   "name": "python",
   "nbconvert_exporter": "python",
   "pygments_lexer": "ipython3",
   "version": "3.11.0"
  },
  "orig_nbformat": 4,
  "vscode": {
   "interpreter": {
    "hash": "7e5b9b477b93ea233fcd4f4060a6320cea0251619434c913f33df3820bae3635"
   }
  }
 },
 "nbformat": 4,
 "nbformat_minor": 2
}
