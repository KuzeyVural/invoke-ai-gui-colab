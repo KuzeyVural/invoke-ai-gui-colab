{
  "cells": [
    {
      "cell_type": "markdown",
      "metadata": {
        "id": "V78TAa3W-9WN"
      },
      "source": [
        "# Для того, чтобы установить Invoke Ai, запустите код в каждой из форм.\n",
        "Для запуска сервера потребуется аккаунт на [ngrok](https://dashboard.ngrok.com/login)\n",
        "\n",
        "# To use Invoke Ai, launch the code in every form below.\n",
        "You will need an account on [ngrok](https://dashboard.ngrok.com/login)\n",
        "\n",
        "**[Repo](https://github.com/peaashmeter/invoke-ai-gui-colab)**"
      ]
    },
    {
      "cell_type": "code",
      "execution_count": null,
      "metadata": {
        "colab": {
          "base_uri": "https://localhost:8080/"
        },
        "id": "hqe0rPfs6wJ3",
        "outputId": "315baad7-9322-4a58-d408-74d15a37c2e3"
      },
      "outputs": [],
      "source": [
        "from google.colab import drive\n",
        "drive.mount('/content/drive')"
      ]
    },
    {
      "cell_type": "code",
      "execution_count": null,
      "metadata": {
        "cellView": "form",
        "colab": {
          "base_uri": "https://localhost:8080/"
        },
        "id": "G5LfQaWe0bHK",
        "outputId": "e24c6723-2004-47c8-a26b-9e542d2f7891"
      },
      "outputs": [],
      "source": [
        "#@title Во время этого этапа Colab крашится, это нормально\n",
        "!pip install -q condacolab\n",
        "import condacolab\n",
        "condacolab.install()"
      ]
    },
    {
      "cell_type": "code",
      "execution_count": null,
      "metadata": {
        "colab": {
          "base_uri": "https://localhost:8080/"
        },
        "id": "U-4vMQGrGXx8",
        "outputId": "e2c1662c-16c0-4542-c55b-cfe50aeb8b55"
      },
      "outputs": [],
      "source": [
        "#@title Подготовка репозитория Invoke Ai { display-mode: \"form\" }\n",
        "%cd /home\n",
        "\n",
        "!git clone https://github.com/invoke-ai/InvokeAI.git\n",
        "%cd InvokeAI\n",
        "\n",
        "!ln -sf environments-and-requirements/environment-lin-cuda.yml environment.yml\n",
        "!ls -la\n",
        "\n",
        "%cd ..\n",
        "\n",
        "!git clone https://github.com/peaashmeter/invoke-ai-gui-colab.git\n",
        "%cd invoke-ai-gui-colab\n",
        "\n",
        "!cp cross_attention_control.py ../InvokeAI/ldm/models/diffusion/cross_attention_control.py"
      ]
    },
    {
      "cell_type": "code",
      "execution_count": null,
      "metadata": {
        "colab": {
          "base_uri": "https://localhost:8080/"
        },
        "id": "0z1VLnSGQyrx",
        "outputId": "71696a22-604e-49ef-b2e7-d38db4dd190e"
      },
      "outputs": [],
      "source": [
        "#@title Установка зависимостей, в норме занимает ~10 минут { display-mode: \"form\" }\n",
        "%cd ../InvokeAI\n",
        "!pip install pyngrok --quiet\n",
        "!conda env update\n",
        "!source activate invokeai ; python scripts/configure_invokeai.py --yes\n",
        "\n",
        "%cp ../invoke-ai-gui-colab/models.yaml /root/invokeai/configs \n",
        "\n"
      ]
    },
    {
      "cell_type": "code",
      "execution_count": null,
      "metadata": {
        "colab": {
          "base_uri": "https://localhost:8080/"
        },
        "id": "OzFl5cmndBrd",
        "outputId": "56dd59e2-e3e1-46cd-c9ac-a107e3a92ae6"
      },
      "outputs": [],
      "source": [
        "#@title Установка модели Anything-V3.0 (требуется 5.1 Гб места на гугл-диске) { display-mode: \"form\" }\n",
        "import os\n",
        "\n",
        "\n",
        "os.system('cd /')\n",
        "os.system('mkdir -p /root/invokeai/models/ldm/stable-diffusion-v1')\n",
        "\n",
        "if os.path.exists('/content/drive/MyDrive/models/Anything-V3.0-pruned.ckpt'):\n",
        "    None\n",
        "else:\n",
        "    print('Производится скачивание модели Anything-V3.0')\n",
        "    os.system('mkdir -p /content/drive/MyDrive/models/')\n",
        "    os.system('wget -O /content/drive/MyDrive/models/Anything-V3.0-pruned.ckpt https://huggingface.co/Linaqruf/anything-v3.0/resolve/main/Anything-V3.0-pruned.ckpt')\n",
        "\n",
        "if os.path.exists('/content/drive/MyDrive/models/Anything-V3.0.vae.pt'):\n",
        "  None\n",
        "else:\n",
        "  print('Производится скачивание Anything-VAE')\n",
        "  os.system('wget -O /content/drive/MyDrive/models/Anything-V3.0.vae.pt https://huggingface.co/Linaqruf/anything-v3.0/resolve/main/Anything-V3.0.vae.pt')\n",
        "\n",
        "if os.path.exists('/content/drive/MyDrive/models/vae-ft-mse-840000-ema-pruned.ckpt'):\n",
        "  None\n",
        "else:\n",
        "  print('Производится скачивание SD-VAE')\n",
        "  os.system('wget -O /content/drive/MyDrive/models/vae-ft-mse-840000-ema-pruned.ckpt https://huggingface.co/stabilityai/sd-vae-ft-mse-original/resolve/main/vae-ft-mse-840000-ema-pruned.ckpt')\n",
        "\n",
        "if not os.path.exists('/content/drive/MyDrive/models/Anything-V3.0-pruned.ckpt') or not os.path.exists('/content/drive/MyDrive/models/vae-ft-mse-840000-ema-pruned.ckpt') or not os.path.exists('/content/drive/MyDrive/models/Anything-V3.0.vae.pt'):\n",
        "    print('Произошла ошибка, попробуйте еще раз\\nUnexpected error')\n",
        "else:\n",
        "    print('Make sure you accept the terms at https://huggingface.co/Linaqruf/anything-v3.0 and https://huggingface.co/stabilityai/sd-vae-ft-mse-original')\n",
        "\n",
        "\n",
        "%mkdir -p /root/invokeai/models/ldm/stable-diffusion-v1/\n",
        "!ln -s  /content/drive/MyDrive/models/Anything-V3.0-pruned.ckpt /root/invokeai/models/ldm/stable-diffusion-v1/Anything-V3.0-pruned.ckpt\n",
        "!ls -l /root/invokeai/models/ldm/stable-diffusion-v1/Anything-V3.0-pruned.ckpt\n",
        "\n",
        "!ln -s  /content/drive/MyDrive/models/vae-ft-mse-840000-ema-pruned.ckpt /root/invokeai/models/ldm/stable-diffusion-v1/vae-ft-mse-840000-ema-pruned.ckpt\n",
        "!ls -l /root/invokeai/models/ldm/stable-diffusion-v1/vae-ft-mse-840000-ema-pruned.ckpt\n",
        "\n",
        "!ln -s  /content/drive/MyDrive/models/Anything-V3.0.vae.pt /root/invokeai/models/ldm/stable-diffusion-v1/Anything-V3.0.vae.pt\n",
        "!ls -l /root/invokeai/models/ldm/stable-diffusion-v1/Anything-V3.0.vae.pt"
      ]
    },
    {
      "cell_type": "code",
      "execution_count": null,
      "metadata": {
        "colab": {
          "base_uri": "https://localhost:8080/"
        },
        "id": "C826ebQkb_OQ",
        "outputId": "b3531f95-2f4d-45da-98be-8d08eb7272e9"
      },
      "outputs": [],
      "source": [
        "#@title Запуск сервера { display-mode: \"both\" }\n",
        "#@markdown Вставьте токен с [ngrok](https://dashboard.ngrok.com/get-started/your-authtoken) в поле перед выполнением кода.\n",
        "\n",
        "ngrok_token = \"\" #@param {type:\"string\"}\n",
        "nsfw_checker = 0 #@param {type:\"slider\", min:0, max:1, step:1}\n",
        "used_vae = \"Anything-V3.0.vae.pt\" #@param [\"Anything-V3.0.vae.pt\", \"vae-ft-mse-840000-ema-pruned\"]\n",
        "\n",
        "import os\n",
        "from pyngrok import ngrok\n",
        "\n",
        "ngrok.kill()\n",
        "ngrok.set_auth_token(ngrok_token)\n",
        "public_url = ngrok.connect(9090).public_url\n",
        "print(f'Invoke Ai public url: {public_url}')\n",
        "\n",
        "%cd /home/InvokeAI\n",
        "\n",
        "model_name = \"Anything_v3_vaefixed\"\n",
        "if used_vae == \"vae-ft-mse-840000-ema-pruned\":\n",
        "    model_name = \"Anything_v3_default\"\n",
        "\n",
        "\n",
        "if nsfw_checker:\n",
        "    !source activate invokeai ; python scripts/invoke.py --web --no-nsfw_checker --model $model_name\n",
        "else:\n",
        "    !source activate invokeai ; python scripts/invoke.py --web --no-nsfw_checker --model $model_name"
      ]
    },
    {
      "cell_type": "markdown",
      "metadata": {
        "id": "ckMayfYdkOmF"
      },
      "source": [
        "# После запуска сервера нужно перейти по первой ссылке из вывода (Invoke Ai public url)\n",
        "Если интерфейс не прогрузился, надо перезагрузить страницу\n",
        "---\n",
        "\n"
      ]
    }
  ],
  "metadata": {
    "accelerator": "GPU",
    "colab": {
      "provenance": []
    },
    "gpuClass": "standard",
    "kernelspec": {
      "display_name": "Python 3",
      "language": "python",
      "name": "python3"
    },
    "language_info": {
      "codemirror_mode": {
        "name": "ipython",
        "version": 3
      },
      "file_extension": ".py",
      "mimetype": "text/x-python",
      "name": "python",
      "nbconvert_exporter": "python",
      "pygments_lexer": "ipython3",
      "version": "3.11.0"
    },
    "orig_nbformat": 4,
    "vscode": {
      "interpreter": {
        "hash": "7e5b9b477b93ea233fcd4f4060a6320cea0251619434c913f33df3820bae3635"
      }
    }
  },
  "nbformat": 4,
  "nbformat_minor": 0
}