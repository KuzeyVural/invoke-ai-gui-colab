{
  "cells": [
    {
      "cell_type": "markdown",
      "source": [
        "# Для того, чтобы установить Invoke Ai, запустите код в каждой из форм.\n",
        "Для запуска сервера потребуется аккаунт на [ngrok](https://dashboard.ngrok.com/login)\n",
        "\n",
        "# To use Invoke Ai, launch the code in every form below.\n",
        "You will need an account on [ngrok](https://dashboard.ngrok.com/login)\n",
        "\n",
        "**[Repo](https://github.com/peaashmeter/invoke-ai-gui-colab)**"
      ],
      "metadata": {
        "id": "V78TAa3W-9WN"
      }
    },
    {
      "cell_type": "code",
      "source": [
        "from google.colab import drive\n",
        "drive.mount('/content/drive')"
      ],
      "metadata": {
        "id": "hqe0rPfs6wJ3"
      },
      "execution_count": null,
      "outputs": []
    },
    {
      "cell_type": "code",
      "source": [
        "#@title Во время этого этапа Colab крашится, это нормально\n",
        "!pip install -q condacolab\n",
        "import condacolab\n",
        "condacolab.install()"
      ],
      "metadata": {
        "id": "G5LfQaWe0bHK",
        "cellView": "form"
      },
      "execution_count": null,
      "outputs": []
    },
    {
      "cell_type": "code",
      "source": [
        "#@title Подготовка репозитория Invoke Ai { display-mode: \"form\" }\n",
        "%cd /home\n",
        "\n",
        "!git clone https://github.com/invoke-ai/InvokeAI.git\n",
        "%cd InvokeAI\n",
        "\n",
        "!ln -sf environments-and-requirements/environment-lin-cuda.yml environment.yml\n",
        "!ls -la\n",
        "\n",
        "%cd ..\n",
        "\n",
        "!git clone https://github.com/peaashmeter/invoke-ai-gui-colab.git\n",
        "%cd invoke-ai-gui-colab\n",
        "\n",
        "!cp cross_attention_control.py ../InvokeAI/ldm/models/diffusion/cross_attention_control.py"
      ],
      "metadata": {
        "id": "U-4vMQGrGXx8"
      },
      "execution_count": null,
      "outputs": []
    },
    {
      "cell_type": "code",
      "source": [
        "#@title Установка зависимостей, в норме занимает ~10 минут { display-mode: \"form\" }\n",
        "%cd ../InvokeAI\n",
        "!pip install pyngrok --quiet\n",
        "!conda env update\n",
        "!source activate invokeai ; python scripts/configure_invokeai.py --yes\n",
        "\n",
        "%cp ../invoke-ai-gui-colab/models.yaml /root/invokeai/configs \n",
        "\n"
      ],
      "metadata": {
        "id": "0z1VLnSGQyrx"
      },
      "execution_count": null,
      "outputs": []
    },
    {
      "cell_type": "code",
      "source": [
        "\n",
        "#@title Установка модели Anything-V3.0 (требуется 4 Гб места на гугл-диске) { display-mode: \"form\" }\n",
        "import os\n",
        "\n",
        "\n",
        "os.system('cd /')\n",
        "os.system('mkdir -p /root/invokeai/models/ldm/stable-diffusion-v1')\n",
        "\n",
        "if os.path.exists('/content/drive/MyDrive/models/Anything-V3.0-pruned.ckpt'):\n",
        "    None\n",
        "\n",
        "else:\n",
        "    print('Производится скачивание модели Anything-V3.0')\n",
        "    os.system('mkdir -p /content/drive/MyDrive/models/')\n",
        "    os.system('wget -O /content/drive/MyDrive/models/Anything-V3.0-pruned.ckpt https://huggingface.co/Linaqruf/anything-v3.0/resolve/main/Anything-V3.0-pruned.ckpt')\n",
        "\n",
        "if not os.path.exists('/content/drive/MyDrive/models/Anything-V3.0-pruned.ckpt'):\n",
        "    print('Произощла ошибка, попробуйте еще раз\\nUnexpected error')\n",
        "else:\n",
        "    print('Make sure you accept the terms at https://huggingface.co/Linaqruf/anything-v3.0')\n",
        "\n",
        "\n",
        "%mkdir -p /root/invokeai/models/ldm/stable-diffusion-v1/\n",
        "!ln -s  /content/drive/MyDrive/models/Anything-V3.0-pruned.ckpt /root/invokeai/models/ldm/stable-diffusion-v1/Anything-V3.0-pruned.ckpt\n",
        "!ls -l /root/invokeai/models/ldm/stable-diffusion-v1/Anything-V3.0-pruned.ckpt"
      ],
      "metadata": {
        "id": "OzFl5cmndBrd"
      },
      "execution_count": null,
      "outputs": []
    },
    {
      "cell_type": "code",
      "source": [
        "#@title Запуск сервера { display-mode: \"form\" }\n",
        "#@markdown Вставьте токен с [ngrok](https://dashboard.ngrok.com/get-started/your-authtoken) в поле перед выполнением кода.\n",
        "\n",
        "ngrok_token = \"\" #@param {type:\"string\"}\n",
        "nsfw_checker = 0 #@param {type:\"slider\", min:0, max:1, step:1}\n",
        "\n",
        "import os\n",
        "from pyngrok import ngrok\n",
        "\n",
        "ngrok.kill()\n",
        "ngrok.set_auth_token(ngrok_token)\n",
        "public_url = ngrok.connect(9090).public_url\n",
        "print(f'Invoke Ai public url: {public_url}')\n",
        "\n",
        "%cd /home/InvokeAI\n",
        "\n",
        "if nsfw_checker:\n",
        "    !source activate invokeai ; python scripts/invoke.py --web --nsfw_checker\n",
        "else:\n",
        "    !source activate invokeai ; python scripts/invoke.py --web --no-nsfw_checker"
      ],
      "metadata": {
        "id": "C826ebQkb_OQ"
      },
      "execution_count": null,
      "outputs": []
    },
    {
      "cell_type": "markdown",
      "source": [
        "# После запуска сервера нужно перейти по первой ссылке из вывода (Invoke Ai public url)\n",
        "Если интерфейс не прогрузился, надо перезагрузить страницу\n",
        "---\n",
        "\n"
      ],
      "metadata": {
        "id": "ckMayfYdkOmF"
      }
    }
  ],
  "metadata": {
    "kernelspec": {
      "display_name": "Python 3",
      "language": "python",
      "name": "python3"
    },
    "language_info": {
      "codemirror_mode": {
        "name": "ipython",
        "version": 3
      },
      "file_extension": ".py",
      "mimetype": "text/x-python",
      "name": "python",
      "nbconvert_exporter": "python",
      "pygments_lexer": "ipython3",
      "version": "3.11.0"
    },
    "orig_nbformat": 4,
    "vscode": {
      "interpreter": {
        "hash": "7e5b9b477b93ea233fcd4f4060a6320cea0251619434c913f33df3820bae3635"
      }
    },
    "colab": {
      "provenance": []
    },
    "gpuClass": "standard",
    "accelerator": "GPU"
  },
  "nbformat": 4,
  "nbformat_minor": 0
}